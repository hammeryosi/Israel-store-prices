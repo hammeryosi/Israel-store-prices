{
 "cells": [
  {
   "cell_type": "code",
   "execution_count": null,
   "metadata": {
    "collapsed": false
   },
   "outputs": [],
   "source": [
    "import xml.etree.ElementTree as ET\n",
    "import pandas as pd\n",
    "import os"
   ]
  },
  {
   "cell_type": "code",
   "execution_count": null,
   "metadata": {
    "collapsed": true
   },
   "outputs": [],
   "source": [
    "# helper: convert xml element to a dictionary\n",
    "\n",
    "def parseEl(el):\n",
    "    res = {}\n",
    "    for it in el.getchildren():\n",
    "        res[it.tag] = it.text\n",
    "    return res\n",
    "\n",
    "def parseXMLFile(filename, fieldName):\n",
    "    tree = ET.parse(filename)\n",
    "    elements = tree.iter(fieldName)\n",
    "    dics = list(map(parseEl, elements))\n",
    "    return pd.DataFrame(dics)"
   ]
  },
  {
   "cell_type": "markdown",
   "metadata": {},
   "source": [
    "### Parsing a store data file"
   ]
  },
  {
   "cell_type": "code",
   "execution_count": null,
   "metadata": {
    "collapsed": false
   },
   "outputs": [],
   "source": [
    "filename = '../rawData/TivTaam/Stores7290873255550-201703191531.xml'\n",
    "tree = ET.parse(filename)\n",
    "storeElements = tree.iter('Store')\n",
    "storeDics = list(map(parseEl, storeElements))\n",
    "storeTable = pd.DataFrame(storeDics)\n",
    "storeTable"
   ]
  },
  {
   "cell_type": "markdown",
   "metadata": {
    "collapsed": true
   },
   "source": [
    "### Parsing Tiv Taam prices"
   ]
  },
  {
   "cell_type": "code",
   "execution_count": null,
   "metadata": {
    "collapsed": true
   },
   "outputs": [],
   "source": [
    "import gzip"
   ]
  },
  {
   "cell_type": "code",
   "execution_count": null,
   "metadata": {
    "collapsed": false,
    "scrolled": false
   },
   "outputs": [],
   "source": [
    "dataroot = '../rawData/TivTaam/'\n",
    "filelist = os.listdir(dataroot)\n",
    "filelist = [f for f in filelist if 'PriceFull' in f]\n",
    "\n",
    "data = []\n",
    "for f in filelist:\n",
    "    branch = f.split('-')[1]\n",
    "    fg = gzip.GzipFile(dataroot + f, 'r')\n",
    "    table = parseXMLFile(fg, 'Item')\n",
    "    fg.close()\n",
    "    table['branch'] = branch\n",
    "    table['chain'] = u'טיב טעם'\n",
    "    data.append(table)\n",
    "\n",
    "tivTaamPrices = pd.concat(data)\n",
    "tivTaamPrices\n",
    "    \n"
   ]
  },
  {
   "cell_type": "code",
   "execution_count": null,
   "metadata": {
    "collapsed": false
   },
   "outputs": [],
   "source": [
    "tivTaamPrices.to_csv('../csv/tivTaamPrices_2017_06_29.csv', encoding='utf8', index=False)"
   ]
  },
  {
   "cell_type": "markdown",
   "metadata": {},
   "source": [
    "### Parsing CoopShop prices"
   ]
  },
  {
   "cell_type": "code",
   "execution_count": null,
   "metadata": {
    "collapsed": false
   },
   "outputs": [],
   "source": [
    "dataroot = '../rawData/CoOpShop/'\n",
    "filelist = os.listdir(dataroot)\n",
    "filelist = [f for f in filelist if 'PriceFull' in f]\n",
    "\n",
    "data = []\n",
    "for f in filelist:\n",
    "    branch = f.split('-')[1]\n",
    "    fg = gzip.GzipFile(dataroot + f, 'r')\n",
    "    table = parseXMLFile(fg, 'item')\n",
    "    fg.close()\n",
    "    table['branch'] = branch\n",
    "    table['chain'] = u'קואופ שופ'\n",
    "    data.append(table)\n",
    "\n",
    "CoopShopPrices = pd.concat(data)\n",
    "CoopShopPrices"
   ]
  },
  {
   "cell_type": "code",
   "execution_count": null,
   "metadata": {
    "collapsed": false
   },
   "outputs": [],
   "source": [
    "CoopShopPrices.to_csv('../csv/CoopShopPrices_2017_06_29.csv', encoding='utf8', index=False)"
   ]
  },
  {
   "cell_type": "markdown",
   "metadata": {},
   "source": [
    "### Parsing Shupersal prices"
   ]
  },
  {
   "cell_type": "code",
   "execution_count": null,
   "metadata": {
    "collapsed": false
   },
   "outputs": [],
   "source": [
    "dataroot = '../rawData/Shupersal/'\n",
    "filelist = os.listdir(dataroot)\n",
    "filelist = [f for f in filelist if 'PriceFull' in f]\n",
    "\n",
    "data = []\n",
    "for f in filelist:\n",
    "    branch = f.split('-')[1]\n",
    "    fg = gzip.GzipFile(dataroot + f, 'r')\n",
    "    table = parseXMLFile(fg, 'Item')\n",
    "    fg.close()\n",
    "    table['branch'] = branch\n",
    "    table['chain'] = u'שופרסל'\n",
    "    data.append(table)\n",
    "\n",
    "ShupersalPrices = pd.concat(data)\n",
    "ShupersalPrices"
   ]
  },
  {
   "cell_type": "code",
   "execution_count": null,
   "metadata": {
    "collapsed": true
   },
   "outputs": [],
   "source": [
    "ShupersalPrices.to_csv('../csv/ShupersalPrices_2017_06_29.csv', encoding='utf8', index=False)"
   ]
  }
 ],
 "metadata": {
  "kernelspec": {
   "display_name": "Python [Root]",
   "language": "python",
   "name": "Python [Root]"
  },
  "language_info": {
   "codemirror_mode": {
    "name": "ipython",
    "version": 3
   },
   "file_extension": ".py",
   "mimetype": "text/x-python",
   "name": "python",
   "nbconvert_exporter": "python",
   "pygments_lexer": "ipython3",
   "version": "3.5.2"
  }
 },
 "nbformat": 4,
 "nbformat_minor": 0
}
