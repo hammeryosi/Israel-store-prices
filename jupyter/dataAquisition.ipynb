{
 "cells": [
  {
   "cell_type": "code",
   "execution_count": 80,
   "metadata": {
    "collapsed": false
   },
   "outputs": [],
   "source": [
    "from selenium import webdriver\n",
    "from selenium.webdriver.common.keys import Keys\n",
    "import time"
   ]
  },
  {
   "cell_type": "code",
   "execution_count": 33,
   "metadata": {
    "collapsed": false
   },
   "outputs": [],
   "source": [
    "driver = webdriver.Chrome()\n",
    "\n",
    "# (manually) set the download folder for the browzer\n"
   ]
  },
  {
   "cell_type": "markdown",
   "metadata": {},
   "source": [
    "## Tiv Taam"
   ]
  },
  {
   "cell_type": "code",
   "execution_count": 41,
   "metadata": {
    "collapsed": false
   },
   "outputs": [],
   "source": [
    "# login with username TivTaam\n",
    "\n",
    "driver.get('https://url.publishedprices.co.il/login')\n",
    "username = driver.find_element_by_id('username')\n",
    "username.send_keys('TivTaam')\n",
    "username.submit()\n",
    "time.sleep(2)\n",
    "\n",
    "# file links\n",
    "\n",
    "fileElements = driver.find_elements_by_class_name('f')"
   ]
  },
  {
   "cell_type": "code",
   "execution_count": null,
   "metadata": {
    "collapsed": true
   },
   "outputs": [],
   "source": [
    "# download .gz files\n",
    "\n",
    "for f in fileElements:\n",
    "    fn = f.text\n",
    "    if fn[-3:] == '.gz':\n",
    "        f.click()"
   ]
  },
  {
   "cell_type": "markdown",
   "metadata": {},
   "source": [
    "## CoOp Shop"
   ]
  },
  {
   "cell_type": "code",
   "execution_count": 81,
   "metadata": {
    "collapsed": true
   },
   "outputs": [],
   "source": [
    "# importing some helper functions I placed in the python directory..\n",
    "import sys\n",
    "sys.path.insert(0, '../python/')\n",
    "from parsing import parseXMLFile"
   ]
  },
  {
   "cell_type": "code",
   "execution_count": 82,
   "metadata": {
    "collapsed": false
   },
   "outputs": [],
   "source": [
    "# using the store names from the store xml file\n",
    "storeFile = '../rawData/CoOpShop/Stores7290633800006-201706282128.xml'\n",
    "storeData = parseXMLFile(storeFile, 'store')\n",
    "storeNames = storeData['StoreName'].unique()"
   ]
  },
  {
   "cell_type": "code",
   "execution_count": 95,
   "metadata": {
    "collapsed": false
   },
   "outputs": [],
   "source": [
    "driver = webdriver.Chrome()\n",
    "# again, setting the default download folder manually now.."
   ]
  },
  {
   "cell_type": "code",
   "execution_count": 96,
   "metadata": {
    "collapsed": false
   },
   "outputs": [],
   "source": [
    "driver.get('http://www.coopisrael.coop/home/prices')\n",
    "driver.find_element_by_id('product_name').send_keys(u'כל המוצרים')\n",
    "time.sleep(0.5)\n",
    "driver.find_element_by_id('match_prices').click()\n",
    "driver.find_element_by_xpath(\"//label[contains(text(),'GZIP')]\").click()\n",
    "driver.find_element_by_id('click').click()"
   ]
  },
  {
   "cell_type": "code",
   "execution_count": 97,
   "metadata": {
    "collapsed": false
   },
   "outputs": [],
   "source": [
    "branchNameInput = driver.find_element_by_id('branch_name')\n",
    "for sn in storeNames:\n",
    "    branchNameInput.clear()\n",
    "    branchNameInput.send_keys(sn)\n",
    "    time.sleep(0.5)\n",
    "    driver.find_element_by_id('match_branch').click()\n",
    "    branchNameInput.submit()\n",
    "    "
   ]
  },
  {
   "cell_type": "markdown",
   "metadata": {},
   "source": [
    "## Shupersal"
   ]
  },
  {
   "cell_type": "code",
   "execution_count": 98,
   "metadata": {
    "collapsed": true
   },
   "outputs": [],
   "source": [
    "driver = webdriver.Chrome()\n",
    "# again, setting the default download folder manually now.."
   ]
  },
  {
   "cell_type": "code",
   "execution_count": 146,
   "metadata": {
    "collapsed": false
   },
   "outputs": [],
   "source": [
    "driver.get('http://prices.shufersal.co.il/')\n",
    "driver.find_element_by_id('ddlCategory').click()\n",
    "driver.find_element_by_xpath(\"//option[contains(text(),'PricesFull')]\").click()\n",
    "driver.find_element_by_id('ddlCategory').click()\n",
    "time.sleep(5)\n",
    "links = driver.find_elements_by_tag_name('a')\n",
    "links = [l for l in links if l.text == u'לחץ להורדה']\n",
    "for l in links:\n",
    "        driver.get(l.get_attribute('href'))\n",
    "        time.sleep(0.5)"
   ]
  },
  {
   "cell_type": "code",
   "execution_count": 147,
   "metadata": {
    "collapsed": false
   },
   "outputs": [],
   "source": [
    "for i in range(15):\n",
    "    driver.find_element_by_xpath(\"//a[contains(text(),'>')]\").click()\n",
    "    time.sleep(5)\n",
    "    links = driver.find_elements_by_tag_name('a')\n",
    "    links = [l for l in links if l.text == u'לחץ להורדה']\n",
    "    for l in links:\n",
    "        driver.get(l.get_attribute('href'))\n",
    "        time.sleep(0.5)"
   ]
  },
  {
   "cell_type": "code",
   "execution_count": null,
   "metadata": {
    "collapsed": true
   },
   "outputs": [],
   "source": []
  }
 ],
 "metadata": {
  "anaconda-cloud": {},
  "kernelspec": {
   "display_name": "Python [Root]",
   "language": "python",
   "name": "Python [Root]"
  },
  "language_info": {
   "codemirror_mode": {
    "name": "ipython",
    "version": 3
   },
   "file_extension": ".py",
   "mimetype": "text/x-python",
   "name": "python",
   "nbconvert_exporter": "python",
   "pygments_lexer": "ipython3",
   "version": "3.5.2"
  }
 },
 "nbformat": 4,
 "nbformat_minor": 0
}
